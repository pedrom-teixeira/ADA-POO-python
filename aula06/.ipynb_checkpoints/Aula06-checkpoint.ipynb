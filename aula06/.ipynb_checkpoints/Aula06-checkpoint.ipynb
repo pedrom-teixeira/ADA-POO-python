{
 "cells": [
  {
   "cell_type": "code",
   "execution_count": null,
   "id": "3d6d6333",
   "metadata": {},
   "outputs": [],
   "source": []
  },
  {
   "cell_type": "code",
   "execution_count": null,
   "id": "e3570325",
   "metadata": {},
   "outputs": [],
   "source": [
    "class Cliente:\n",
    "\n",
    "    def __init__(self, nome, telefone, agencia, conta):\n",
    "        self.__nome = nome\n",
    "        self.__telefone = telefone\n",
    "        self.__agencia = agencia\n",
    "        self.__conta = conta\n",
    "        \n",
    "    def __str__(self) -> str:\n",
    "        return f\"{self.__nome} - Tel.: {self.__telefone} -Ag.: {self.__agencia} - CC: {self.__conta}\"\n",
    "    \n",
    "    @classmethod\n",
    "    def fromBirthYear(cls, name, year):\n",
    "        return cls(name, date.today().year - year)"
   ]
  }
 ],
 "metadata": {
  "kernelspec": {
   "display_name": "Python 3 (ipykernel)",
   "language": "python",
   "name": "python3"
  },
  "language_info": {
   "codemirror_mode": {
    "name": "ipython",
    "version": 3
   },
   "file_extension": ".py",
   "mimetype": "text/x-python",
   "name": "python",
   "nbconvert_exporter": "python",
   "pygments_lexer": "ipython3",
   "version": "3.11.1"
  }
 },
 "nbformat": 4,
 "nbformat_minor": 5
}
