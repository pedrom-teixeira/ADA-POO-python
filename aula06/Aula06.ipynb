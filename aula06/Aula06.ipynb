{
 "cells": [
  {
   "cell_type": "code",
   "execution_count": null,
   "id": "702abea7",
   "metadata": {},
   "outputs": [],
   "source": []
  },
  {
   "cell_type": "code",
   "execution_count": 3,
   "id": "659aa9aa",
   "metadata": {},
   "outputs": [],
   "source": [
    "class Cliente:\n",
    "    \n",
    "    def __init__(self, nome, telefone, agencia, conta):\n",
    "        self.__nome = nome\n",
    "        self.__telefone = telefone\n",
    "        self.__agencia = agencia\n",
    "        self.__conta = conta\n",
    "        lista_.append(nome)\n",
    "        \n",
    "    def __str__(self) -> str:\n",
    "        return f\"{self.__nome} - Tel.: {self.__telefone} -Ag.: {self.__agencia} - CC: {self.__conta}\"\n",
    "    \n",
    "    @classmethod\n",
    "    def fromBirthYear(cls, name, year):\n",
    "        return cls(name, date.today().year - year)"
   ]
  },
  {
   "cell_type": "code",
   "execution_count": 2,
   "id": "1d3e5501",
   "metadata": {},
   "outputs": [
    {
     "ename": "NameError",
     "evalue": "name 'lista_' is not defined",
     "output_type": "error",
     "traceback": [
      "\u001b[1;31m---------------------------------------------------------------------------\u001b[0m",
      "\u001b[1;31mNameError\u001b[0m                                 Traceback (most recent call last)",
      "Cell \u001b[1;32mIn[2], line 1\u001b[0m\n\u001b[1;32m----> 1\u001b[0m a\u001b[38;5;241m=\u001b[39m\u001b[43mCliente\u001b[49m\u001b[43m(\u001b[49m\u001b[38;5;124;43m'\u001b[39;49m\u001b[38;5;124;43mAlex\u001b[39;49m\u001b[38;5;124;43m'\u001b[39;49m\u001b[43m,\u001b[49m\u001b[38;5;241;43m11998489911\u001b[39;49m\u001b[43m,\u001b[49m\u001b[38;5;241;43m11515\u001b[39;49m\u001b[43m,\u001b[49m\u001b[38;5;241;43m55665\u001b[39;49m\u001b[43m)\u001b[49m\n",
      "Cell \u001b[1;32mIn[1], line 9\u001b[0m, in \u001b[0;36mCliente.__init__\u001b[1;34m(self, nome, telefone, agencia, conta)\u001b[0m\n\u001b[0;32m      7\u001b[0m \u001b[38;5;28mself\u001b[39m\u001b[38;5;241m.\u001b[39m__agencia \u001b[38;5;241m=\u001b[39m agencia\n\u001b[0;32m      8\u001b[0m \u001b[38;5;28mself\u001b[39m\u001b[38;5;241m.\u001b[39m__conta \u001b[38;5;241m=\u001b[39m conta\n\u001b[1;32m----> 9\u001b[0m \u001b[43mlista_\u001b[49m\u001b[38;5;241m.\u001b[39mappend(nome)\n",
      "\u001b[1;31mNameError\u001b[0m: name 'lista_' is not defined"
     ]
    }
   ],
   "source": [
    "a=Cliente('Alex',11998489911,11515,55665)"
   ]
  },
  {
   "cell_type": "code",
   "execution_count": null,
   "id": "a5fa0120",
   "metadata": {},
   "outputs": [],
   "source": []
  }
 ],
 "metadata": {
  "kernelspec": {
   "display_name": "Python 3 (ipykernel)",
   "language": "python",
   "name": "python3"
  },
  "language_info": {
   "codemirror_mode": {
    "name": "ipython",
    "version": 3
   },
   "file_extension": ".py",
   "mimetype": "text/x-python",
   "name": "python",
   "nbconvert_exporter": "python",
   "pygments_lexer": "ipython3",
   "version": "3.11.1"
  }
 },
 "nbformat": 4,
 "nbformat_minor": 5
}
