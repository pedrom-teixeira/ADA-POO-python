{
 "cells": [
  {
   "cell_type": "code",
   "execution_count": 111,
   "id": "702abea7",
   "metadata": {},
   "outputs": [],
   "source": [
    "class Veiculo:\n",
    "    def __init__(self, modelo, marca):\n",
    "        self.__modelo = modelo\n",
    "        self.__marca = marca\n",
    "        \n",
    "    @property    \n",
    "    def modelo(self):\n",
    "        return self.__modelo\n",
    "    \n",
    "    @modelo.setter   \n",
    "    def modelo(self,novo_modelo):\n",
    "        self.__modelo = novo_modelo\n",
    "        \n",
    "        \n",
    "    @property    \n",
    "    def marca(self):\n",
    "        return self.__marca\n",
    "    \n",
    "    @marca.setter\n",
    "    def marca(self,nova_marca):\n",
    "        self.__marca = nova_marca\n",
    "        \n",
    "    \n",
    "    def __str__(self):\n",
    "        return f\"Marca: {self.marca}, Modelo: {self.modelo}\"\n",
    "        \n",
    "    "
   ]
  },
  {
   "cell_type": "code",
   "execution_count": 112,
   "id": "659aa9aa",
   "metadata": {},
   "outputs": [],
   "source": [
    "class Carro(Veiculo):\n",
    "    def __init__(self, marca, modelo, portas):\n",
    "        super().__init__(marca, modelo)\n",
    "        self.__portas = portas\n",
    "        \n",
    "    @property \n",
    "    def portas(self):\n",
    "        return self.__portas\n",
    "    \n",
    "    @portas.setter\n",
    "    def portas(self,nova_portas):\n",
    "        self.__portas = nova_portas\n",
    "        \n",
    "    \n",
    "    def __str__(self):\n",
    "        return f\"Marca: {self.marca}, Modelo: {self.modelo}, Portas: {self.portas}\"\n"
   ]
  },
  {
   "cell_type": "code",
   "execution_count": 113,
   "id": "a5fa0120",
   "metadata": {},
   "outputs": [],
   "source": [
    "class Moto(Veiculo):\n",
    "    def __init__(self, marca, modelo, cilindradas):\n",
    "        super().__init__(marca, modelo)\n",
    "        self.__cilindradas = cilindradas\n",
    "        \n",
    "    @property    \n",
    "    def cilindradas(self):\n",
    "        return self.__cilindradas\n",
    "    \n",
    "    @cilindradas.setter\n",
    "    def cilindradas(self,nova_cilindradas):\n",
    "        self.__cilindradas = nova_cilindradas\n",
    "        \n",
    "    def __str__(self):\n",
    "        return f\"Marca: {self.marca}, Modelo: {self.modelo}, Cilindradas: {self.cilindradas}\""
   ]
  },
  {
   "cell_type": "code",
   "execution_count": 114,
   "id": "64598100",
   "metadata": {},
   "outputs": [],
   "source": [
    "moto=Moto('CG160','Honda',170)"
   ]
  },
  {
   "cell_type": "code",
   "execution_count": 115,
   "id": "4572fda0",
   "metadata": {},
   "outputs": [],
   "source": [
    "carro=Carro('Fiat','Pulse',5)"
   ]
  },
  {
   "cell_type": "code",
   "execution_count": 116,
   "id": "87f2141d",
   "metadata": {},
   "outputs": [],
   "source": [
    "veiculo=Veiculo('Scania','F500')"
   ]
  },
  {
   "cell_type": "code",
   "execution_count": 117,
   "id": "3a541109",
   "metadata": {},
   "outputs": [],
   "source": [
    "lista=[moto,carro,veiculo]"
   ]
  },
  {
   "cell_type": "code",
   "execution_count": 118,
   "id": "a27f6e09",
   "metadata": {},
   "outputs": [
    {
     "name": "stdout",
     "output_type": "stream",
     "text": [
      "Marca: Honda, Modelo: CG160, Cilindradas: 170\n",
      "Marca: Pulse, Modelo: Fiat, Portas: 5\n",
      "Marca: F500, Modelo: Scania\n"
     ]
    }
   ],
   "source": [
    "for veiculo in lista:\n",
    "    print(veiculo)"
   ]
  }
 ],
 "metadata": {
  "kernelspec": {
   "display_name": "Python 3 (ipykernel)",
   "language": "python",
   "name": "python3"
  },
  "language_info": {
   "codemirror_mode": {
    "name": "ipython",
    "version": 3
   },
   "file_extension": ".py",
   "mimetype": "text/x-python",
   "name": "python",
   "nbconvert_exporter": "python",
   "pygments_lexer": "ipython3",
   "version": "3.11.1"
  }
 },
 "nbformat": 4,
 "nbformat_minor": 5
}
